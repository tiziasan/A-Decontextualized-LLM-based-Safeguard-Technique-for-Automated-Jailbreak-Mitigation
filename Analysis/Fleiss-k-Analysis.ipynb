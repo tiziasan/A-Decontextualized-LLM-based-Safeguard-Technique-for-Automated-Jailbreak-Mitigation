{
 "cells": [
  {
   "cell_type": "code",
   "execution_count": 1,
   "id": "ec909d8b",
   "metadata": {},
   "outputs": [
    {
     "name": "stdout",
     "output_type": "stream",
     "text": [
      "Fleiss' kappa: 0.869\n"
     ]
    }
   ],
   "source": [
    "import pandas as pd\n",
    "import numpy as np\n",
    "from statsmodels.stats.inter_rater import fleiss_kappa\n",
    "\n",
    "file_path = \"Fleiss-k-Data.xlsx\"  \n",
    "df = pd.read_excel(file_path, sheet_name=\"Sheet1\")\n",
    "\n",
    "df.columns = df.columns.str.strip()\n",
    "\n",
    "df_numeric = df.applymap(lambda x: 1 if str(x).strip().upper() == 'YES' else 0)\n",
    "\n",
    "counts = pd.DataFrame({\n",
    "    'YES': df_numeric.sum(axis=1),\n",
    "    'NO': df_numeric.shape[1] - df_numeric.sum(axis=1)\n",
    "})\n",
    "\n",
    "ratings_matrix = counts.to_numpy()\n",
    "\n",
    "kappa = fleiss_kappa(ratings_matrix, method='fleiss')\n",
    "\n",
    "print(f\"Fleiss' kappa: {round(kappa, 3)}\")\n"
   ]
  },
  {
   "cell_type": "code",
   "execution_count": null,
   "id": "28058741",
   "metadata": {},
   "outputs": [],
   "source": []
  }
 ],
 "metadata": {
  "kernelspec": {
   "display_name": "Python 3 (ipykernel)",
   "language": "python",
   "name": "python3"
  },
  "language_info": {
   "codemirror_mode": {
    "name": "ipython",
    "version": 3
   },
   "file_extension": ".py",
   "mimetype": "text/x-python",
   "name": "python",
   "nbconvert_exporter": "python",
   "pygments_lexer": "ipython3",
   "version": "3.11.3"
  }
 },
 "nbformat": 4,
 "nbformat_minor": 5
}
