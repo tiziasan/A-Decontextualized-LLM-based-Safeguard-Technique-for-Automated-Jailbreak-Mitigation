{
 "cells": [
  {
   "cell_type": "code",
   "execution_count": 1,
   "id": "5280b52c",
   "metadata": {},
   "outputs": [
    {
     "name": "stdout",
     "output_type": "stream",
     "text": [
      "Majority vote calcolato per ciascun item.\n",
      "Primi 5 risultati:\n",
      "  Expert 1 Expert 2 Expert 3 Majority Vote\n",
      "0      YES      YES      YES           YES\n",
      "1      YES      YES      YES           YES\n",
      "2      YES      YES      YES           YES\n",
      "3      YES      YES      YES           YES\n",
      "4      YES      YES       NO           YES\n"
     ]
    }
   ],
   "source": [
    "import pandas as pd\n",
    "\n",
    "file_path = \"Fleiss-k-Data.xlsx\" \n",
    "df = pd.read_excel(file_path, sheet_name=\"Sheet1\")\n",
    "\n",
    "df.columns = df.columns.str.strip()  \n",
    "df_numeric = df.applymap(lambda x: 1 if str(x).strip().upper() == 'YES' else 0)\n",
    "\n",
    "\n",
    "df['Majority Vote'] = df_numeric.sum(axis=1).apply(lambda x: 'YES' if x >= 2 else 'NO')\n",
    "\n",
    "output_path = \"majority_vote_results.xlsx\"\n",
    "df.to_excel(output_path, index=False)\n",
    "\n",
    "print(\"Majority vote calculated for each item.\")\n",
    "print(\"First 5 Results:\")\n",
    "print(df[['Expert 1', 'Expert 2', 'Expert 3', 'Majority Vote']].head())\n"
   ]
  },
  {
   "cell_type": "code",
   "execution_count": null,
   "id": "42609be6",
   "metadata": {},
   "outputs": [],
   "source": []
  }
 ],
 "metadata": {
  "kernelspec": {
   "display_name": "Python 3 (ipykernel)",
   "language": "python",
   "name": "python3"
  },
  "language_info": {
   "codemirror_mode": {
    "name": "ipython",
    "version": 3
   },
   "file_extension": ".py",
   "mimetype": "text/x-python",
   "name": "python",
   "nbconvert_exporter": "python",
   "pygments_lexer": "ipython3",
   "version": "3.11.3"
  }
 },
 "nbformat": 4,
 "nbformat_minor": 5
}
